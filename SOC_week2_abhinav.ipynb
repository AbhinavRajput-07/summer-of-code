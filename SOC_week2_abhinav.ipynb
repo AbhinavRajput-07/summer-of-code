{
  "nbformat": 4,
  "nbformat_minor": 0,
  "metadata": {
    "colab": {
      "provenance": [],
      "authorship_tag": "ABX9TyOWzk3n2iE45ee6YpZ9IB/2",
      "include_colab_link": true
    },
    "kernelspec": {
      "name": "python3",
      "display_name": "Python 3"
    },
    "language_info": {
      "name": "python"
    }
  },
  "cells": [
    {
      "cell_type": "markdown",
      "metadata": {
        "id": "view-in-github",
        "colab_type": "text"
      },
      "source": [
        "<a href=\"https://colab.research.google.com/github/AbhinavRajput-07/summer-of-code/blob/main/SOC_week2_abhinav.ipynb\" target=\"_parent\"><img src=\"https://colab.research.google.com/assets/colab-badge.svg\" alt=\"Open In Colab\"/></a>"
      ]
    },
    {
      "cell_type": "markdown",
      "source": [
        "MAIN STRATEDY :- in the main strategy i used the concept of momentum trading to design my general algorithm, as in all the other strategy i found that majorly the data could be in a kind off trend though many time it will be in sideways fashion.\n",
        "but still there will be breakouts leading to either up or down trend thus i used the momentum strategy for designing my algorithm.\n",
        "the final strategy is there in the drive."
      ],
      "metadata": {
        "id": "gdmZSbdVyzVb"
      }
    },
    {
      "cell_type": "markdown",
      "source": [
        "so i used the same strategy for writing the strategy for all the given prices and trades data.\n",
        "i used market making from getting inspired from the one in the notebook provided.        \n",
        "\n",
        "\n",
        "now in the starting i did the same like the notebook draw the graphs of all three. then i took all the area rewnges where the graph was majorly concentrated like in abra the graph was sort of decreasing so at the points where ever i can find the range of sideways 100-200 timestamp i took a note of it while for sudowoodo and drowzee the prices variation wasent much so there were mostly sideways graph in the most of the area.\n",
        "\n",
        "then depending on the various timestamp points where prices were concentrated i ran the sliced plot to get the prices at that point.\n",
        "\n",
        "now i got the price ranges where the prices were concentrated so that i can get a range for trading .\n",
        "\n",
        "then i analysed the trades.csv file for prices and quantities and shortlisted the price where high amount of trades were happening helping me to get more liquidity and the quantity ranging from 1 to 10+.\n",
        "\n",
        "so using these later shortlisted price  i ran my market making strategy for all those prices and iterated the buying selling prices and order quantity to get the maximum pnl possible with minimum pnl of 0 thus loss preventive strategy.\n",
        "\n",
        "then similar action and analyis was done for all the three datas to get the maximum pnl with almost 0min pnl.\n",
        "\n",
        "in last i build these profitable strategies but they were all hardcoded according to the data so along with my overall final momemtum based strategy i had attached them too."
      ],
      "metadata": {
        "id": "PpFm1YP_pRAD"
      }
    },
    {
      "cell_type": "code",
      "source": [
        "from google.colab import drive\n",
        "drive.mount('/content/drive')"
      ],
      "metadata": {
        "id": "MfeAJL276fQS"
      },
      "execution_count": null,
      "outputs": []
    },
    {
      "cell_type": "markdown",
      "source": [
        "strategy for Abra"
      ],
      "metadata": {
        "id": "Ki3LiM-n7Ymq"
      }
    },
    {
      "cell_type": "code",
      "source": [
        "from src.backtester import Order, OrderBook\n",
        "from typing import List\n",
        "\n",
        "class Trader:\n",
        "    def run(self, state, current_position):\n",
        "        result = {}\n",
        "        orders: List[Order] = []\n",
        "        order_depth: OrderBook = state.order_depth\n",
        "\n",
        "        orders.append(Order(\"PRODUCT\", 1921, 30))\n",
        "        orders.append(Order(\"PRODUCT\", 1928, -30))\n",
        "\n",
        "\n",
        "\n",
        "\n",
        "        result[\"PRODUCT\"] = orders\n",
        "        return result"
      ],
      "metadata": {
        "id": "99GRnXww7d8Q"
      },
      "execution_count": null,
      "outputs": []
    },
    {
      "cell_type": "markdown",
      "source": [
        "strategy for drowzee"
      ],
      "metadata": {
        "id": "Taj3PJoz7jKG"
      }
    },
    {
      "cell_type": "code",
      "source": [
        "from src.backtester import Order, OrderBook\n",
        "from typing import List\n",
        "\n",
        "class Trader:\n",
        "    def run(self, state, current_position):\n",
        "        result = {}\n",
        "        orders: List[Order] = []\n",
        "        order_depth: OrderBook = state.order_depth\n",
        "\n",
        "        orders.append(Order(\"PRODUCT\", 2034, 30))\n",
        "        orders.append(Order(\"PRODUCT\", 2036, -30))\n",
        "\n",
        "        result[\"PRODUCT\"] = orders\n",
        "        return result"
      ],
      "metadata": {
        "id": "lgA5lTtBECOa"
      },
      "execution_count": null,
      "outputs": []
    },
    {
      "cell_type": "markdown",
      "source": [
        "strategy for sudowoodo"
      ],
      "metadata": {
        "id": "iQzGltJJEFAP"
      }
    },
    {
      "cell_type": "code",
      "source": [
        "from src.backtester import Order, OrderBook\n",
        "from typing import List\n",
        "\n",
        "class Trader:\n",
        "    def run(self, state, current_position):\n",
        "        result = {}\n",
        "        orders: List[Order] = []\n",
        "        order_depth: OrderBook = state.order_depth\n",
        "\n",
        "        orders.append(Order(\"PRODUCT\", 9998, 30))\n",
        "        orders.append(Order(\"PRODUCT\", 10002, -30))\n",
        "\n",
        "        result[\"PRODUCT\"] = orders\n",
        "        return result"
      ],
      "metadata": {
        "id": "48NO9p2JH7wI"
      },
      "execution_count": null,
      "outputs": []
    },
    {
      "cell_type": "markdown",
      "source": [
        "though this is the similar strategy as given in the notebook, but this is the best strategy which i can find according to the trades data of sudowoodo others are just giving a profit of undert 10k and this one is giving more profit than the one in the notebook."
      ],
      "metadata": {
        "id": "EWopWmYTH9H4"
      }
    },
    {
      "cell_type": "markdown",
      "source": [],
      "metadata": {
        "id": "Kqp9HlpS4MJZ"
      }
    }
  ]
}